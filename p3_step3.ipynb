{
 "cells": [
  {
   "cell_type": "code",
   "execution_count": 42,
   "id": "620426d5",
   "metadata": {},
   "outputs": [],
   "source": [
    "import numpy as np\n",
    "import pandas as pd\n",
    "import seaborn as sns\n",
    "import re\n",
    "import pickle\n",
    "import networkx as nx\n",
    "\n",
    "import matplotlib.pyplot as plt\n",
    "import matplotlib.dates as mdates\n",
    "import datetime\n",
    "import statsmodels\n",
    "import warnings\n",
    "warnings.filterwarnings(\"ignore\", \"is_categorical_dtype\")\n",
    "warnings.filterwarnings(\"ignore\", \"use_inf_as_na\")"
   ]
  },
  {
   "cell_type": "markdown",
   "id": "1af96c52",
   "metadata": {},
   "source": [
    "## Load data"
   ]
  },
  {
   "cell_type": "code",
   "execution_count": 4,
   "id": "acdb6548",
   "metadata": {},
   "outputs": [],
   "source": [
    "lang_codes = [\"ja\", \"ko\", \"tr\", \"sv\" , \"no\", \"fi\", \"da\", \"sr\", \"it\" , \"ca\", \"nl\", \"fr\", \"de\"]\n",
    "ctr_codes = [\"JPN\", \"KOR\", \"TUR\", \"SWE\", \"NOR\", \"FIN\", \"DEN\", \"SER\", \"ITA\", \"SPA\", \"NET\", \"FRA\", \"GER\"]\n",
    "code_dict = dict(zip(lang_codes, ctr_codes))\n",
    "country_region = {'East Asia': ['ja', 'ko'], 'West Asia': ['tr'], 'Northern Europe': ['sv', 'no', 'fi', 'da'],\n",
    "        'Southern Europe': ['sr', 'it', 'ca'], 'Western Europe':['nl', 'fr', 'de'], 'North America': ['en']}\n",
    "\n",
    "agg = pd.read_json(\"data/aggregated_timeseries.json.gz\")\n",
    "hofstede = pd.read_csv(\"data/6-dimensions-for-website-2015-08-16.csv\", sep=\";\")\n",
    "hofstede = hofstede[hofstede.ctr.isin(ctr_codes)].set_index('ctr').drop('country', axis=1).astype(int)"
   ]
  },
  {
   "cell_type": "code",
   "execution_count": 5,
   "id": "c1a753f5",
   "metadata": {},
   "outputs": [],
   "source": [
    "dfs = []\n",
    "codes = lang_codes + [x + '.m' for x in lang_codes]\n",
    "\n",
    "dfs = []\n",
    "\n",
    "for language in codes:\n",
    "    language_data = agg[language]\n",
    "    all_sum = pd.Series(agg[language]['sum'])\n",
    "    if 0 in all_sum.values:\n",
    "        all_sum.replace(0, 1, inplace=True)\n",
    "    \n",
    "    for topic, topic_data in language_data[\"topics\"].items():\n",
    "        topic_sum = pd.Series(topic_data['sum']) # number of pageviews per day for a topic\n",
    "        topic_df = pd.DataFrame({\n",
    "            'pageviews': topic_sum.values,\n",
    "            'language': [language] * len(topic_sum),\n",
    "            'date': topic_sum.index,\n",
    "            'topic': [topic] * len(topic_sum),\n",
    "            'proportion': np.divide(topic_sum.values, all_sum.values)\n",
    "        })\n",
    "        dfs.append(topic_df)\n",
    "        \n",
    "df = pd.concat(dfs, ignore_index=True)\n",
    "df.date = pd.to_datetime(df.date)"
   ]
  },
  {
   "cell_type": "code",
   "execution_count": 6,
   "id": "1e4f7862",
   "metadata": {},
   "outputs": [],
   "source": [
    "df_desktop = df[df.language.apply(lambda l : l in lang_codes)]\n",
    "df_mobile = df[df.language.apply(lambda l : l[-2:] == \".m\")]\n",
    "df_mobile.loc[:,\"language\"] = df_mobile.language.apply(lambda l: l[:-2])\n",
    "df = pd.concat([df_desktop, df_mobile]).groupby([\"language\", \"topic\", \"date\"]).sum().reset_index()"
   ]
  },
  {
   "cell_type": "code",
   "execution_count": 9,
   "id": "97b4c779",
   "metadata": {},
   "outputs": [],
   "source": [
    "df[\"log_views\"] = np.log(df.pageviews)\n",
    "df_simple = df[df.topic.apply(lambda t: (t[-1] != \"*\") & (not t.startswith(\"Geography\")))]"
   ]
  },
  {
   "cell_type": "markdown",
   "id": "67a29d7d",
   "metadata": {},
   "source": [
    "## Detect outliers"
   ]
  },
  {
   "cell_type": "code",
   "execution_count": 10,
   "id": "616c00f2",
   "metadata": {},
   "outputs": [
    {
     "name": "stderr",
     "output_type": "stream",
     "text": [
      "C:\\Users\\jybur\\AppData\\Local\\Temp\\ipykernel_2956\\1136603932.py:7: SettingWithCopyWarning: \n",
      "A value is trying to be set on a copy of a slice from a DataFrame.\n",
      "Try using .loc[row_indexer,col_indexer] = value instead\n",
      "\n",
      "See the caveats in the documentation: https://pandas.pydata.org/pandas-docs/stable/user_guide/indexing.html#returning-a-view-versus-a-copy\n",
      "  df_simple.loc[:, \"valid\"] = df_simple.groupby([\"language\", \"topic\"]).pageviews.transform(outlier_detection)\n"
     ]
    }
   ],
   "source": [
    "from sklearn.ensemble import IsolationForest\n",
    "\n",
    "def outlier_detection(x):\n",
    "    clf = IsolationForest(contamination=0.05, random_state=42) \n",
    "    return clf.fit_predict(x.to_numpy().reshape((-1, 1)))\n",
    "\n",
    "df_simple.loc[:, \"valid\"] = df_simple.groupby([\"language\", \"topic\"]).pageviews.transform(outlier_detection)"
   ]
  },
  {
   "cell_type": "code",
   "execution_count": 12,
   "id": "60931fb8",
   "metadata": {},
   "outputs": [
    {
     "name": "stderr",
     "output_type": "stream",
     "text": [
      "C:\\Users\\jybur\\AppData\\Local\\Temp\\ipykernel_2956\\3143543575.py:1: SettingWithCopyWarning: \n",
      "A value is trying to be set on a copy of a slice from a DataFrame.\n",
      "Try using .loc[row_indexer,col_indexer] = value instead\n",
      "\n",
      "See the caveats in the documentation: https://pandas.pydata.org/pandas-docs/stable/user_guide/indexing.html#returning-a-view-versus-a-copy\n",
      "  df_simple.loc[:,\"month\"] = df_simple.date.to_numpy().astype('datetime64[M]')\n",
      "C:\\Users\\jybur\\AppData\\Local\\Temp\\ipykernel_2956\\3143543575.py:2: SettingWithCopyWarning: \n",
      "A value is trying to be set on a copy of a slice from a DataFrame.\n",
      "Try using .loc[row_indexer,col_indexer] = value instead\n",
      "\n",
      "See the caveats in the documentation: https://pandas.pydata.org/pandas-docs/stable/user_guide/indexing.html#returning-a-view-versus-a-copy\n",
      "  df_simple.loc[:,'week'] = df_simple.date - df_simple.date.dt.weekday * np.timedelta64(1, 'D')\n",
      "C:\\Users\\jybur\\AppData\\Local\\Temp\\ipykernel_2956\\3143543575.py:3: SettingWithCopyWarning: \n",
      "A value is trying to be set on a copy of a slice from a DataFrame.\n",
      "Try using .loc[row_indexer,col_indexer] = value instead\n",
      "\n",
      "See the caveats in the documentation: https://pandas.pydata.org/pandas-docs/stable/user_guide/indexing.html#returning-a-view-versus-a-copy\n",
      "  df_simple.loc[:,\"normalized_log_views\"] = df_simple[df_simple.valid == 1].groupby([\"language\", \"topic\"]).log_views.transform(lambda x : (x - x.mean())/x.std())\n"
     ]
    }
   ],
   "source": [
    "df_simple.loc[:,\"month\"] = df_simple.date.to_numpy().astype('datetime64[M]')\n",
    "df_simple.loc[:,'week'] = df_simple.date - df_simple.date.dt.weekday * np.timedelta64(1, 'D')\n",
    "df_simple.loc[:,\"normalized_log_views\"] = df_simple[df_simple.valid == 1].groupby([\"language\", \"topic\"]).log_views.transform(lambda x : (x - x.mean())/x.std())"
   ]
  },
  {
   "cell_type": "code",
   "execution_count": 35,
   "id": "d39fc7bd",
   "metadata": {},
   "outputs": [],
   "source": [
    "with open(\"results/corr_timeseries.pkl\", \"rb\") as f:\n",
    "    corr_dfs = pickle.load(f)\n",
    "    \n",
    "del corr_dfs['Culture.Biography.Women']"
   ]
  },
  {
   "cell_type": "code",
   "execution_count": 38,
   "id": "6a8bb5fe",
   "metadata": {},
   "outputs": [],
   "source": [
    "sum_df = None\n",
    "for topic, df in corr_dfs.items():\n",
    "    if sum_df is None:\n",
    "        sum_df = df\n",
    "    else:\n",
    "        sum_df = sum_df + df\n",
    "\n",
    "sum_df /= len(corr_dfs)"
   ]
  },
  {
   "cell_type": "code",
   "execution_count": 45,
   "id": "c60ac0fa",
   "metadata": {},
   "outputs": [],
   "source": [
    "G = nx.from_numpy_array(sum_df.to_numpy())"
   ]
  },
  {
   "cell_type": "code",
   "execution_count": 82,
   "id": "a8e19436",
   "metadata": {},
   "outputs": [],
   "source": [
    "com = nx.community.louvain_communities(G, resolution=0.9)"
   ]
  },
  {
   "cell_type": "code",
   "execution_count": 87,
   "id": "f464cd80",
   "metadata": {},
   "outputs": [],
   "source": [
    "commu = []\n",
    "for g in [list(c) for c in com]:\n",
    "    cm = []\n",
    "    for gi in g:\n",
    "        if sum_df.index[gi] != 'sv':\n",
    "            cm.append(sum_df.index[gi])\n",
    "    if len(cm) > 0:\n",
    "        commu.append(cm)"
   ]
  },
  {
   "cell_type": "code",
   "execution_count": 88,
   "id": "8ba9b0a6",
   "metadata": {},
   "outputs": [
    {
     "data": {
      "text/plain": [
       "[['da', 'de', 'fi', 'nl', 'no'], ['ca', 'sr', 'fr', 'it'], ['tr', 'ja', 'ko']]"
      ]
     },
     "execution_count": 88,
     "metadata": {},
     "output_type": "execute_result"
    }
   ],
   "source": [
    "commu"
   ]
  },
  {
   "cell_type": "code",
   "execution_count": null,
   "id": "d77770a1",
   "metadata": {},
   "outputs": [],
   "source": []
  }
 ],
 "metadata": {
  "kernelspec": {
   "display_name": "Python 3 (ipykernel)",
   "language": "python",
   "name": "python3"
  },
  "language_info": {
   "codemirror_mode": {
    "name": "ipython",
    "version": 3
   },
   "file_extension": ".py",
   "mimetype": "text/x-python",
   "name": "python",
   "nbconvert_exporter": "python",
   "pygments_lexer": "ipython3",
   "version": "3.11.4"
  }
 },
 "nbformat": 4,
 "nbformat_minor": 5
}
